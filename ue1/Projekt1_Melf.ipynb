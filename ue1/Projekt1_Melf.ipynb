{
 "cells": [
  {
   "cell_type": "markdown",
   "id": "42a560bc",
   "metadata": {},
   "source": [
    "### Imports"
   ]
  },
  {
   "cell_type": "code",
   "execution_count": 3,
   "id": "5bdc86d1",
   "metadata": {},
   "outputs": [],
   "source": [
    "from sklearn.ensemble import RandomForestClassifier\n",
    "from sklearn.model_selection import train_test_split\n",
    "from IPython.display import Audio\n",
    "import matplotlib.pyplot as plt\n",
    "import numpy as np\n",
    "import pandas as pd\n",
    "import librosa \n",
    "\n",
    "import os\n",
    "import csv"
   ]
  },
  {
   "cell_type": "markdown",
   "id": "1da82693",
   "metadata": {},
   "source": [
    "### Predefined classifier function"
   ]
  },
  {
   "cell_type": "code",
   "execution_count": 4,
   "id": "43d8db6c",
   "metadata": {},
   "outputs": [],
   "source": [
    "def InstrumentClassifier(train_data, train_labels, test_data):\n",
    "    clf_final = RandomForestClassifier(n_estimators=250)\n",
    "    clf_final.fit(train_data, train_labels)\n",
    "    labels = clf_final.predict(test_data)\n",
    "    return labels"
   ]
  },
  {
   "cell_type": "markdown",
   "id": "4d17a0c4",
   "metadata": {},
   "source": [
    "### Feature extraction (mfcc)"
   ]
  },
  {
   "cell_type": "code",
   "execution_count": 5,
   "id": "c7dd0384",
   "metadata": {},
   "outputs": [],
   "source": [
    "#https://dagshub.com/Ananya-github/Audio-signal-classification/src/main/Feature%20Extraction.ipynb\n",
    "header = \"filename \"\n",
    "for i in range(0, 13):\n",
    "    header += f' mfcc_{i}'\n",
    "header += ' label'\n",
    "header = header.split()\n",
    "file = open('Extracted_Features.csv', 'w', newline='')\n",
    "with file:\n",
    "    writer = csv.writer(file)\n",
    "    writer.writerow(header)\n",
    "\n",
    "Instruments = 'gel pia voi cel'.split()\n",
    "for i in Instruments:\n",
    "    for filename in os.listdir(f'./data/{i}'):\n",
    "        songname = f'./data/{i}/{filename}'\n",
    "        y, sr = librosa.load(songname)\n",
    "        to_append = f'{filename}'            \n",
    "        mfcc = librosa.feature.mfcc(y=y,n_mfcc=13, sr=sr)\n",
    "        for e in mfcc:\n",
    "            to_append += f' {np.mean(e)}'\n",
    "        to_append += f' {i}'\n",
    "        file = open('Extracted_Features.csv', 'a', newline='')\n",
    "        with file:\n",
    "            writer = csv.writer(file)\n",
    "            writer.writerow(to_append.split())"
   ]
  },
  {
   "cell_type": "markdown",
   "id": "d6434ff0",
   "metadata": {},
   "source": [
    "### Splitting into training/test data/labels"
   ]
  },
  {
   "cell_type": "code",
   "execution_count": 34,
   "id": "da0124d6",
   "metadata": {
    "scrolled": true
   },
   "outputs": [
    {
     "name": "stdout",
     "output_type": "stream",
     "text": [
      "(2620, 13)\n",
      "(27, 13)\n"
     ]
    }
   ],
   "source": [
    "df=pd.read_csv(\"Extracted_Features.csv\")\n",
    "traindata, testdata = train_test_split(df, test_size=0.01)\n",
    "labels_traindata=traindata[\"label\"]\n",
    "traindata=traindata.drop(['filename',\"label\"],axis=1)\n",
    "labels_testdata=testdata[\"label\"]\n",
    "testdata=testdata.drop(['filename',\"label\"],axis=1)\n",
    "n_train = np.shape(traindata)[0]\n",
    "n_test = np.shape(testdata)[0]\n",
    "print(np.shape(traindata))\n",
    "print(np.shape(testdata))"
   ]
  },
  {
   "cell_type": "markdown",
   "id": "c9633948",
   "metadata": {},
   "source": [
    "### Training and error"
   ]
  },
  {
   "cell_type": "code",
   "execution_count": 36,
   "id": "9ff32c9e",
   "metadata": {},
   "outputs": [
    {
     "name": "stdout",
     "output_type": "stream",
     "text": [
      "Incorrect:  4  of  27\n",
      "0.14814814814814814\n"
     ]
    }
   ],
   "source": [
    "classified_test_data = InstrumentClassifier(traindata, labels_traindata, testdata)\n",
    "labels_test_np = labels_testdata.to_numpy()\n",
    "not_equal = np.not_equal(labels_test_np, classified_test_data)\n",
    "print(\"Incorrect: \", not_equal.sum(), \" of \", n_test)\n",
    "P = not_equal.sum()/(n_test)\n",
    "print(P)"
   ]
  }
 ],
 "metadata": {
  "kernelspec": {
   "display_name": "Python 3 (ipykernel)",
   "language": "python",
   "name": "python3"
  },
  "language_info": {
   "codemirror_mode": {
    "name": "ipython",
    "version": 3
   },
   "file_extension": ".py",
   "mimetype": "text/x-python",
   "name": "python",
   "nbconvert_exporter": "python",
   "pygments_lexer": "ipython3",
   "version": "3.11.3"
  }
 },
 "nbformat": 4,
 "nbformat_minor": 5
}
